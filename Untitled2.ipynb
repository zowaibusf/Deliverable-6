{
  "nbformat": 4,
  "nbformat_minor": 0,
  "metadata": {
    "colab": {
      "provenance": []
    },
    "kernelspec": {
      "name": "python3",
      "display_name": "Python 3"
    },
    "language_info": {
      "name": "python"
    }
  },
  "cells": [
    {
      "cell_type": "code",
      "execution_count": 1,
      "metadata": {
        "colab": {
          "base_uri": "https://localhost:8080/"
        },
        "id": "JrMxuUWvvawJ",
        "outputId": "ec0dedf1-fded-4f10-b606-66adaace8ee8"
      },
      "outputs": [
        {
          "output_type": "stream",
          "name": "stdout",
          "text": [
            "      sepal_length  sepal_width  petal_length  petal_width  sepal_sum  \\\n",
            "mean      5.843333     3.057333      3.758000     1.199333   8.900667   \n",
            "std       0.828066     0.435866      1.765298     0.762238   0.889272   \n",
            "min       4.300000     2.000000      1.000000     0.100000   6.800000   \n",
            "max       7.900000     4.400000      6.900000     2.500000  11.700000   \n",
            "\n",
            "      petal_sum  \n",
            "mean   4.957333  \n",
            "std    2.507689  \n",
            "min    1.200000  \n",
            "max    9.200000  \n"
          ]
        }
      ],
      "source": [
        "# Step 1\n",
        "import pandas as pd\n",
        "import numpy as np\n",
        "import seaborn as sns\n",
        "\n",
        "# Step 2\n",
        "iris = sns.load_dataset('iris')\n",
        "\n",
        "# Step 3\n",
        "iris = iris.drop('species', axis=1)\n",
        "\n",
        "# Step 4\n",
        "iris['sepal_sum'] = iris['sepal_length'] + iris['sepal_width']\n",
        "iris['petal_sum'] = iris['petal_length'] + iris['petal_width']\n",
        "\n",
        "# Step 5\n",
        "summary_df = pd.DataFrame({\n",
        "    'mean': iris.mean(),\n",
        "    'std': iris.std(),\n",
        "    'min': iris.min(),\n",
        "    'max': iris.max()\n",
        "})\n",
        "summary_df = summary_df.transpose()\n",
        "\n",
        "# Print the summary dataframe\n",
        "print(summary_df)\n"
      ]
    }
  ]
}